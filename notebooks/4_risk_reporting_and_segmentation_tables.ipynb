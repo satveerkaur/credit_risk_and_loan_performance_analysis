{
 "cells": [
  {
   "cell_type": "markdown",
   "id": "a3055e16",
   "metadata": {},
   "source": [
    "# Credit Risk & Loan Performance: Risk Reporting and Quantification\n",
    "\n",
    "#### Author: Satveer Kaur\n",
    "#### Date: 2025-10-28\n",
    "#### Notebook Purpose:\n",
    "The primary goal of this notebook is to transition from visual insight generation (EDA) to quantifiable risk reporting. Using the final, validated, and optimized dataset (`clean_data_for_reporting.csv`), the analysis will structure the findings into professional risk reports to achieve the following:\n",
    "\n",
    "1. **Quantify Risk Separation:** Translate the visual trends confirmed in Notebook 3 (FICO, DTI, Income) into precise metrics: **Total Loans (Volume), Default Count, and the Observed Default Rate (ODR)** for every segment.\n",
    "\n",
    "2. **Generate Segmentation Tables:** Create structured, formatted tables that quantify risk exposure and default frequency across the key borrower segments.\n",
    "\n",
    "3. **Produce Reporting Deliverables:** Export the final, auditable risk tables (segmentation matrices) to external files (e.g., CSV/Excel) for use by management, credit policy teams, and regulatory reporting.\n",
    "\n",
    "This notebook serves as the **final deliverable** of the data analytics phase, providing the quantitative evidence needed to inform underwriting policy and portfolio strategy."
   ]
  },
  {
   "cell_type": "markdown",
   "id": "916aca1d",
   "metadata": {},
   "source": [
    "#### 1. Setup and Data Loading"
   ]
  },
  {
   "cell_type": "code",
   "execution_count": 67,
   "id": "6901f015",
   "metadata": {},
   "outputs": [],
   "source": [
    "# Importing Libraries\n",
    "import pandas as pd\n",
    "import matplotlib.pyplot as plt\n",
    "import seaborn as sns\n",
    "import os\n",
    "\n",
    "df_report = pd.read_csv('../data/clean_data/clean_data_for_reporting.csv', low_memory=False, parse_dates=['issue_date'])"
   ]
  },
  {
   "cell_type": "markdown",
   "id": "962f6b06",
   "metadata": {},
   "source": [
    "#### 2. Risk Quantification Function\n",
    "**Purpose:** To efficiently generate the three core metrics required for any risk segmentation table: **Total Loans (Volume), Default Count, and Observed Default Rate (ODR).**"
   ]
  },
  {
   "cell_type": "code",
   "execution_count": 68,
   "id": "5e336dda",
   "metadata": {},
   "outputs": [],
   "source": [
    "def create_segmentation_table(df, segment_col):\n",
    "    agg_df = df.groupby(segment_col).agg(\n",
    "        total_loans = ('is_default','count'),\n",
    "        default_count = ('is_default', 'sum'),\n",
    "        ODR = ('is_default', 'mean')\n",
    "    )\n",
    "    return agg_df"
   ]
  },
  {
   "cell_type": "markdown",
   "id": "3c537beb",
   "metadata": {},
   "source": [
    "#### 3. FICO Risk Segmentation Table\n",
    "**Purpose:** Generate the final, formatted table for the FICO bins."
   ]
  },
  {
   "cell_type": "code",
   "execution_count": 69,
   "id": "2b72b56b",
   "metadata": {},
   "outputs": [
    {
     "data": {
      "text/plain": [
       "array(['Good (670-739)', 'Subprime/Poor (<670)', 'Very Good (740-799)',\n",
       "       'Excellent (800+)'], dtype=object)"
      ]
     },
     "execution_count": 69,
     "metadata": {},
     "output_type": "execute_result"
    }
   ],
   "source": [
    "df_report['fico_bin'].unique()"
   ]
  },
  {
   "cell_type": "code",
   "execution_count": 70,
   "id": "bcc08bec",
   "metadata": {},
   "outputs": [],
   "source": [
    "# creating segmentation table for FICO\n",
    "fico_report = create_segmentation_table(df_report, 'fico_bin')\n",
    "\n",
    "# setting order for fico\n",
    "fico_order = ['Excellent (800+)', 'Very Good (740-799)','Good (670-739)', 'Subprime/Poor (<670)']\n",
    "\n",
    "# reset index\n",
    "fico_report.reset_index(inplace=True)\n",
    "\n",
    "# rename columns for professional display\n",
    "fico_report = fico_report.rename(columns={\n",
    "    'fico_bin': 'FICO Bin',\n",
    "    'total_loans': 'Total Loans',\n",
    "    'default_count':'Default Count'\n",
    "})\n",
    "\n",
    "# Convert fico_bin to categorical type with specified order\n",
    "fico_report['FICO Bin'] = pd.Categorical(\n",
    "    fico_report['FICO Bin'],\n",
    "    categories=fico_order,\n",
    "    ordered=True\n",
    ")\n",
    "\n",
    "# sort the df_report using categorical order\n",
    "fico_report = fico_report.sort_values(by='FICO Bin')\n",
    "\n",
    "# format the columns for final display\n",
    "fico_report_styled=fico_report.style.format(\n",
    "    {\n",
    "        'Total Loans': '{:,.0f}'.format,\n",
    "        'Default Count' : '{:,.0f}'.format,\n",
    "        'ODR':'{:.2%}'.format\n",
    "    }\n",
    ").set_caption('Fico Risk Segmentation Table')\n"
   ]
  },
  {
   "cell_type": "code",
   "execution_count": 71,
   "id": "0ab36dbd",
   "metadata": {},
   "outputs": [
    {
     "data": {
      "text/html": [
       "<style type=\"text/css\">\n",
       "</style>\n",
       "<table id=\"T_5664e\">\n",
       "  <caption>Fico Risk Segmentation Table</caption>\n",
       "  <thead>\n",
       "    <tr>\n",
       "      <th class=\"blank level0\" >&nbsp;</th>\n",
       "      <th id=\"T_5664e_level0_col0\" class=\"col_heading level0 col0\" >FICO Bin</th>\n",
       "      <th id=\"T_5664e_level0_col1\" class=\"col_heading level0 col1\" >Total Loans</th>\n",
       "      <th id=\"T_5664e_level0_col2\" class=\"col_heading level0 col2\" >Default Count</th>\n",
       "      <th id=\"T_5664e_level0_col3\" class=\"col_heading level0 col3\" >ODR</th>\n",
       "    </tr>\n",
       "  </thead>\n",
       "  <tbody>\n",
       "    <tr>\n",
       "      <th id=\"T_5664e_level0_row0\" class=\"row_heading level0 row0\" >0</th>\n",
       "      <td id=\"T_5664e_row0_col0\" class=\"data row0 col0\" >Excellent (800+)</td>\n",
       "      <td id=\"T_5664e_row0_col1\" class=\"data row0 col1\" >1,526</td>\n",
       "      <td id=\"T_5664e_row0_col2\" class=\"data row0 col2\" >102</td>\n",
       "      <td id=\"T_5664e_row0_col3\" class=\"data row0 col3\" >6.68%</td>\n",
       "    </tr>\n",
       "    <tr>\n",
       "      <th id=\"T_5664e_level0_row1\" class=\"row_heading level0 row1\" >3</th>\n",
       "      <td id=\"T_5664e_row1_col0\" class=\"data row1 col0\" >Very Good (740-799)</td>\n",
       "      <td id=\"T_5664e_row1_col1\" class=\"data row1 col1\" >12,985</td>\n",
       "      <td id=\"T_5664e_row1_col2\" class=\"data row1 col2\" >1,303</td>\n",
       "      <td id=\"T_5664e_row1_col3\" class=\"data row1 col3\" >10.03%</td>\n",
       "    </tr>\n",
       "    <tr>\n",
       "      <th id=\"T_5664e_level0_row2\" class=\"row_heading level0 row2\" >1</th>\n",
       "      <td id=\"T_5664e_row2_col0\" class=\"data row2 col0\" >Good (670-739)</td>\n",
       "      <td id=\"T_5664e_row2_col1\" class=\"data row2 col1\" >96,065</td>\n",
       "      <td id=\"T_5664e_row2_col2\" class=\"data row2 col2\" >19,224</td>\n",
       "      <td id=\"T_5664e_row2_col3\" class=\"data row2 col3\" >20.01%</td>\n",
       "    </tr>\n",
       "    <tr>\n",
       "      <th id=\"T_5664e_level0_row3\" class=\"row_heading level0 row3\" >2</th>\n",
       "      <td id=\"T_5664e_row3_col0\" class=\"data row3 col0\" >Subprime/Poor (<670)</td>\n",
       "      <td id=\"T_5664e_row3_col1\" class=\"data row3 col1\" >24,035</td>\n",
       "      <td id=\"T_5664e_row3_col2\" class=\"data row3 col2\" >6,307</td>\n",
       "      <td id=\"T_5664e_row3_col3\" class=\"data row3 col3\" >26.24%</td>\n",
       "    </tr>\n",
       "  </tbody>\n",
       "</table>\n"
      ],
      "text/plain": [
       "<pandas.io.formats.style.Styler at 0x1f5d96ba210>"
      ]
     },
     "execution_count": 71,
     "metadata": {},
     "output_type": "execute_result"
    }
   ],
   "source": [
    "fico_report_styled"
   ]
  },
  {
   "cell_type": "markdown",
   "id": "70dd6810",
   "metadata": {},
   "source": [
    "#### 4. DTI Risk Segmentation Table\n",
    "**Purpose:** Generate the final, formatted table for the DTI Quintile."
   ]
  },
  {
   "cell_type": "code",
   "execution_count": 72,
   "id": "a360d7f9",
   "metadata": {},
   "outputs": [
    {
     "data": {
      "text/html": [
       "<style type=\"text/css\">\n",
       "</style>\n",
       "<table id=\"T_b6894\">\n",
       "  <caption>DTI Risk Segmentation Table</caption>\n",
       "  <thead>\n",
       "    <tr>\n",
       "      <th class=\"blank level0\" >&nbsp;</th>\n",
       "      <th id=\"T_b6894_level0_col0\" class=\"col_heading level0 col0\" >DTI Quintile</th>\n",
       "      <th id=\"T_b6894_level0_col1\" class=\"col_heading level0 col1\" >Total Loans</th>\n",
       "      <th id=\"T_b6894_level0_col2\" class=\"col_heading level0 col2\" >Default Count</th>\n",
       "      <th id=\"T_b6894_level0_col3\" class=\"col_heading level0 col3\" >ODR</th>\n",
       "    </tr>\n",
       "  </thead>\n",
       "  <tbody>\n",
       "    <tr>\n",
       "      <th id=\"T_b6894_level0_row0\" class=\"row_heading level0 row0\" >0</th>\n",
       "      <td id=\"T_b6894_row0_col0\" class=\"data row0 col0\" >Q1 (Lowest DTI)</td>\n",
       "      <td id=\"T_b6894_row0_col1\" class=\"data row0 col1\" >26,933</td>\n",
       "      <td id=\"T_b6894_row0_col2\" class=\"data row0 col2\" >4,119</td>\n",
       "      <td id=\"T_b6894_row0_col3\" class=\"data row0 col3\" >15.29%</td>\n",
       "    </tr>\n",
       "    <tr>\n",
       "      <th id=\"T_b6894_level0_row1\" class=\"row_heading level0 row1\" >1</th>\n",
       "      <td id=\"T_b6894_row1_col0\" class=\"data row1 col0\" >Q2</td>\n",
       "      <td id=\"T_b6894_row1_col1\" class=\"data row1 col1\" >26,939</td>\n",
       "      <td id=\"T_b6894_row1_col2\" class=\"data row1 col2\" >4,483</td>\n",
       "      <td id=\"T_b6894_row1_col3\" class=\"data row1 col3\" >16.64%</td>\n",
       "    </tr>\n",
       "    <tr>\n",
       "      <th id=\"T_b6894_level0_row2\" class=\"row_heading level0 row2\" >2</th>\n",
       "      <td id=\"T_b6894_row2_col0\" class=\"data row2 col0\" >Q3</td>\n",
       "      <td id=\"T_b6894_row2_col1\" class=\"data row2 col1\" >26,918</td>\n",
       "      <td id=\"T_b6894_row2_col2\" class=\"data row2 col2\" >5,127</td>\n",
       "      <td id=\"T_b6894_row2_col3\" class=\"data row2 col3\" >19.05%</td>\n",
       "    </tr>\n",
       "    <tr>\n",
       "      <th id=\"T_b6894_level0_row3\" class=\"row_heading level0 row3\" >3</th>\n",
       "      <td id=\"T_b6894_row3_col0\" class=\"data row3 col0\" >Q4</td>\n",
       "      <td id=\"T_b6894_row3_col1\" class=\"data row3 col1\" >26,905</td>\n",
       "      <td id=\"T_b6894_row3_col2\" class=\"data row3 col2\" >5,932</td>\n",
       "      <td id=\"T_b6894_row3_col3\" class=\"data row3 col3\" >22.05%</td>\n",
       "    </tr>\n",
       "    <tr>\n",
       "      <th id=\"T_b6894_level0_row4\" class=\"row_heading level0 row4\" >4</th>\n",
       "      <td id=\"T_b6894_row4_col0\" class=\"data row4 col0\" >Q5 (Highest DTI)</td>\n",
       "      <td id=\"T_b6894_row4_col1\" class=\"data row4 col1\" >26,881</td>\n",
       "      <td id=\"T_b6894_row4_col2\" class=\"data row4 col2\" >7,264</td>\n",
       "      <td id=\"T_b6894_row4_col3\" class=\"data row4 col3\" >27.02%</td>\n",
       "    </tr>\n",
       "  </tbody>\n",
       "</table>\n"
      ],
      "text/plain": [
       "<pandas.io.formats.style.Styler at 0x1f5d96b9310>"
      ]
     },
     "execution_count": 72,
     "metadata": {},
     "output_type": "execute_result"
    }
   ],
   "source": [
    "# create segmentation table for DTI\n",
    "dti_report = create_segmentation_table(df_report,'dti_quintile')\n",
    "\n",
    "# Reset index\n",
    "dti_report.reset_index(inplace=True)\n",
    "\n",
    "# rename columns for professional display\n",
    "dti_report = dti_report.rename(columns={\n",
    "    'dti_quintile': 'DTI Quintile',\n",
    "    'total_loans': 'Total Loans',\n",
    "    'default_count':'Default Count'\n",
    "})\n",
    "\n",
    "# format the columns for final display\n",
    "dti_report_styled=dti_report.style.format(\n",
    "    {\n",
    "        'Total Loans': '{:,.0f}'.format,\n",
    "        'Default Count' : '{:,.0f}'.format,\n",
    "        'ODR':'{:.2%}'.format\n",
    "    }\n",
    ").set_caption('DTI Risk Segmentation Table')\n",
    "\n",
    "dti_report_styled"
   ]
  },
  {
   "cell_type": "markdown",
   "id": "8b801e53",
   "metadata": {},
   "source": [
    "#### 5. Income Segmentation Table\n",
    "**Purpose:** Generate the final, formatted table for the Income Brackets."
   ]
  },
  {
   "cell_type": "code",
   "execution_count": 73,
   "id": "359d01df",
   "metadata": {},
   "outputs": [
    {
     "data": {
      "text/html": [
       "<style type=\"text/css\">\n",
       "</style>\n",
       "<table id=\"T_6cb84\">\n",
       "  <caption>Annual Income Risk Segmentation Table</caption>\n",
       "  <thead>\n",
       "    <tr>\n",
       "      <th class=\"blank level0\" >&nbsp;</th>\n",
       "      <th id=\"T_6cb84_level0_col0\" class=\"col_heading level0 col0\" >Annual Income Bracket</th>\n",
       "      <th id=\"T_6cb84_level0_col1\" class=\"col_heading level0 col1\" >Total Loans</th>\n",
       "      <th id=\"T_6cb84_level0_col2\" class=\"col_heading level0 col2\" >Default Count</th>\n",
       "      <th id=\"T_6cb84_level0_col3\" class=\"col_heading level0 col3\" >ODR</th>\n",
       "    </tr>\n",
       "  </thead>\n",
       "  <tbody>\n",
       "    <tr>\n",
       "      <th id=\"T_6cb84_level0_row0\" class=\"row_heading level0 row0\" >3</th>\n",
       "      <td id=\"T_6cb84_row0_col0\" class=\"data row0 col0\" >< $50k</td>\n",
       "      <td id=\"T_6cb84_row0_col1\" class=\"data row0 col1\" >38,640</td>\n",
       "      <td id=\"T_6cb84_row0_col2\" class=\"data row0 col2\" >8,872</td>\n",
       "      <td id=\"T_6cb84_row0_col3\" class=\"data row0 col3\" >22.96%</td>\n",
       "    </tr>\n",
       "    <tr>\n",
       "      <th id=\"T_6cb84_level0_row1\" class=\"row_heading level0 row1\" >1</th>\n",
       "      <td id=\"T_6cb84_row1_col0\" class=\"data row1 col0\" > $50k - $100k</td>\n",
       "      <td id=\"T_6cb84_row1_col1\" class=\"data row1 col1\" >68,170</td>\n",
       "      <td id=\"T_6cb84_row1_col2\" class=\"data row1 col2\" >13,628</td>\n",
       "      <td id=\"T_6cb84_row1_col3\" class=\"data row1 col3\" >19.99%</td>\n",
       "    </tr>\n",
       "    <tr>\n",
       "      <th id=\"T_6cb84_level0_row2\" class=\"row_heading level0 row2\" >0</th>\n",
       "      <td id=\"T_6cb84_row2_col0\" class=\"data row2 col0\" > $100k - $150k</td>\n",
       "      <td id=\"T_6cb84_row2_col1\" class=\"data row2 col1\" >19,411</td>\n",
       "      <td id=\"T_6cb84_row2_col2\" class=\"data row2 col2\" >3,154</td>\n",
       "      <td id=\"T_6cb84_row2_col3\" class=\"data row2 col3\" >16.25%</td>\n",
       "    </tr>\n",
       "    <tr>\n",
       "      <th id=\"T_6cb84_level0_row3\" class=\"row_heading level0 row3\" >2</th>\n",
       "      <td id=\"T_6cb84_row3_col0\" class=\"data row3 col0\" > > $150k</td>\n",
       "      <td id=\"T_6cb84_row3_col1\" class=\"data row3 col1\" >8,390</td>\n",
       "      <td id=\"T_6cb84_row3_col2\" class=\"data row3 col2\" >1,282</td>\n",
       "      <td id=\"T_6cb84_row3_col3\" class=\"data row3 col3\" >15.28%</td>\n",
       "    </tr>\n",
       "  </tbody>\n",
       "</table>\n"
      ],
      "text/plain": [
       "<pandas.io.formats.style.Styler at 0x1f5d96ba490>"
      ]
     },
     "execution_count": 73,
     "metadata": {},
     "output_type": "execute_result"
    }
   ],
   "source": [
    "# create segmentation table for income brackets\n",
    "income_report = create_segmentation_table(df_report,'income_brackets')\n",
    "\n",
    "# Reset index\n",
    "income_report.reset_index(inplace=True)\n",
    "\n",
    "# order for income brackets\n",
    "income_order = ['< $50k',' $50k - $100k',' $100k - $150k', ' > $150k']\n",
    "\n",
    "# converting income_bracket to categorical type with specified order\n",
    "income_report['income_brackets']= pd.Categorical(\n",
    "    income_report['income_brackets'],\n",
    "    categories=income_order,\n",
    "    ordered=True\n",
    ")\n",
    "# sort income_report using categorical order\n",
    "income_report = income_report.sort_values(by='income_brackets')\n",
    "# rename columns for professional display\n",
    "income_report = income_report.rename(columns={\n",
    "    'income_brackets': 'Annual Income Bracket',\n",
    "    'total_loans': 'Total Loans',\n",
    "    'default_count':'Default Count'\n",
    "})\n",
    "\n",
    "# format the columns for final display\n",
    "income_report_styled=income_report.style.format(\n",
    "    {\n",
    "        'Total Loans': '{:,.0f}'.format,\n",
    "        'Default Count' : '{:,.0f}'.format,\n",
    "        'ODR':'{:.2%}'.format\n",
    "    }\n",
    ").set_caption('Annual Income Risk Segmentation Table')\n",
    "\n",
    "income_report_styled"
   ]
  },
  {
   "cell_type": "markdown",
   "id": "e3a18b78",
   "metadata": {},
   "source": [
    "#### 5. Conclusion and Export\n",
    "**Purpose:** To finalize the analysis by quantifying and structuring all risk insights into a primary deliverable. This section exports the final, auditable FICO, DTI, and Income segmentation tables into a single Excel report."
   ]
  },
  {
   "cell_type": "code",
   "execution_count": 74,
   "id": "07ccd576",
   "metadata": {},
   "outputs": [],
   "source": [
    "report_dataframes = {\n",
    "    'FICO_Segmentation': fico_report,\n",
    "    'DTI_Segmentation': dti_report,\n",
    "    'Income_Segmentation': income_report\n",
    "}\n",
    "\n",
    "# make folder to store the segmentation tables\n",
    "os.makedirs('../data/processed', exist_ok=True)\n",
    "\n",
    "output_file = '../data/processed/risk_segmentation_report.xlsx'\n",
    "\n",
    "with pd.ExcelWriter(output_file, engine='xlsxwriter') as writer:\n",
    "    for sheet_name, df_to_write in report_dataframes.items():\n",
    "        df_to_write.to_excel(writer, sheet_name=sheet_name, index=False)"
   ]
  },
  {
   "cell_type": "markdown",
   "id": "a3abc3ef",
   "metadata": {},
   "source": [
    "#### 6. Summary and Next Steps\n",
    "\n",
    "##### Summary\n",
    "This notebook successfully concluded the quantitative analysis and data preparation phase by:\n",
    "\n",
    "1. **Quantifying Risk:** Generated three segmented reports (FICO, DTI, Income) detailing the Observed Default Rate (ODR), Total Loans, and Default Count for every risk segment.\n",
    "2. **Professional Formatting:** Applied correct column renaming, categorical ordering, and professional number formatting for clarity.\n",
    "3. **Data Checkpoint:** Successfully exported all three critical reports into a single, clean Excel workbook (`risk_segmentation_report.xlsx`), making the data consumption-ready for the next step.\n",
    "\n",
    "##### Project Status: Ready for Visualization\n",
    "The entire analytical project, from data ingestion (Notebook 1) through reporting (Notebook 4), is complete. The results are locked down and saved in the Excel deliverable. The project is now moving from data preparation to visual data storytelling.\n",
    "\n",
    "##### Next Steps: Tableau Dashboard Creation\n",
    "The final deliverable is the interactive dashboard. The next phase will use the output of this notebook directly in Tableau:\n",
    "\n",
    "1. **Data Source Connection:** Import the risk_segmentation_report.xlsx file into Tableau. Since the data is already aggregated, this single file serves as the definitive source for the dashboard.\n",
    "2. **Visualization Design:** Create the required credit risk charts:\n",
    " -  **Trend Visualizations:** Line or Bar charts showing ODR vs. FICO and ODR vs. DTI.\n",
    " - **Volume Metrics:** Bar charts showing loan volume (Total Loans) to provide context alongside risk rates.\n",
    " - **Summary Table:** An interactive table using the final formatted data to allow users to quickly view all metrics per segment.\n",
    "3. **Dashboard Assembly:** Integrate the sheets into a final, interactive dashboard with clear titles, filters, and annotations that communicate the key risk drivers to stakeholders."
   ]
  }
 ],
 "metadata": {
  "kernelspec": {
   "display_name": "base",
   "language": "python",
   "name": "python3"
  },
  "language_info": {
   "codemirror_mode": {
    "name": "ipython",
    "version": 3
   },
   "file_extension": ".py",
   "mimetype": "text/x-python",
   "name": "python",
   "nbconvert_exporter": "python",
   "pygments_lexer": "ipython3",
   "version": "3.13.5"
  }
 },
 "nbformat": 4,
 "nbformat_minor": 5
}
